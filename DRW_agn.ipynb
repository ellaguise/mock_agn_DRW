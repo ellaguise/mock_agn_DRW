{
 "cells": [
  {
   "cell_type": "code",
   "execution_count": 74,
   "id": "9fafabad",
   "metadata": {},
   "outputs": [],
   "source": [
    "from sql_py_defs import *\n",
    "import matplotlib.pyplot as plt\n",
    "import numpy as np\n",
    "import keyring"
   ]
  },
  {
   "cell_type": "code",
   "execution_count": 78,
   "id": "8b4d3d7f",
   "metadata": {},
   "outputs": [
    {
     "name": "stdout",
     "output_type": "stream",
     "text": [
      "SQL_password\n",
      "MySQL Database connection successful\n"
     ]
    }
   ],
   "source": [
    "pw = keyring.get_password(\"mysql\", \"ellaguise\")\n",
    "connection = create_db_connection(\"localhost\", \"root\", pw, \"agn_samp\")"
   ]
  },
  {
   "cell_type": "code",
   "execution_count": 27,
   "id": "4cb2b688",
   "metadata": {},
   "outputs": [],
   "source": [
    "def read_query(connection, query):\n",
    "    cursor = connection.cursor()\n",
    "    result = None\n",
    "    try:\n",
    "        cursor.execute(query)\n",
    "        result = cursor.fetchall()\n",
    "        return result\n",
    "    except Error as err:\n",
    "        print(f\"Error: '{err}'\")"
   ]
  },
  {
   "cell_type": "code",
   "execution_count": 46,
   "id": "2fb70ac1",
   "metadata": {},
   "outputs": [],
   "source": [
    "q1 = \"\"\"\n",
    "SELECT z,lum FROM agn_samp_z_5_area_10;\n",
    "\"\"\"\n",
    "\n",
    "results = read_query(connection, q1)\n",
    "z = [results[i][0] for i in range(len(results))]\n",
    "lum = [results[i][1] for i in range(len(results))]"
   ]
  },
  {
   "cell_type": "code",
   "execution_count": 51,
   "id": "5159d151",
   "metadata": {},
   "outputs": [],
   "source": [
    "log_sigma_sq = [8. - 0.27*(lum[i]) + (0.47+np.log10(1+z[i])) for i in range(len(z))]\n",
    "log_tau = [-8.13 + 0.24*(lum[i]) + (0.34*np.log10(1+z[i])) for i in range(len(z))] "
   ]
  },
  {
   "cell_type": "code",
   "execution_count": 55,
   "id": "444458a3",
   "metadata": {},
   "outputs": [
    {
     "name": "stdout",
     "output_type": "stream",
     "text": [
      "Query successful\n",
      "Query successful\n"
     ]
    }
   ],
   "source": [
    "alter_tau = \"\"\"\n",
    "ALTER TABLE agn_samp_z_5_area_10\n",
    "ADD tau FLOAT;\n",
    "\"\"\"\n",
    "\n",
    "alter_sigma = \"\"\"\n",
    "ALTER TABLE agn_samp_z_5_area_10\n",
    "ADD sigma_sq FLOAT;\n",
    "\"\"\"\n",
    "\n",
    "execute_query(connection, alter_tau)\n",
    "execute_query(connection, alter_sigma)"
   ]
  },
  {
   "cell_type": "code",
   "execution_count": 71,
   "id": "ed02d5ac",
   "metadata": {},
   "outputs": [
    {
     "name": "stdout",
     "output_type": "stream",
     "text": [
      "Query successful\n"
     ]
    }
   ],
   "source": [
    "sql = '''\n",
    "    UPDATE agn_samp_z_5_area_10 \n",
    "    SET tau = %s, sigma_sq = %s\n",
    "    where id = %s\n",
    "    '''\n",
    "\n",
    "    \n",
    "val = [(float(log_tau[i]), float(log_sigma_sq[i]), int(i)) for i in range(len(log_tau))]\n",
    "\n",
    "\n",
    "execute_list_query(connection, sql, val)"
   ]
  },
  {
   "cell_type": "code",
   "execution_count": null,
   "id": "fe1e4d85",
   "metadata": {},
   "outputs": [],
   "source": []
  }
 ],
 "metadata": {
  "kernelspec": {
   "display_name": "Python 3",
   "language": "python",
   "name": "python3"
  },
  "language_info": {
   "codemirror_mode": {
    "name": "ipython",
    "version": 3
   },
   "file_extension": ".py",
   "mimetype": "text/x-python",
   "name": "python",
   "nbconvert_exporter": "python",
   "pygments_lexer": "ipython3",
   "version": "3.8.8"
  }
 },
 "nbformat": 4,
 "nbformat_minor": 5
}
