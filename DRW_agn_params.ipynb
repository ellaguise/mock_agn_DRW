{
 "cells": [
  {
   "cell_type": "code",
   "execution_count": 26,
   "id": "9fafabad",
   "metadata": {},
   "outputs": [],
   "source": [
    "import sql_py_defs as sql\n",
    "import matplotlib.pyplot as plt\n",
    "import numpy as np\n",
    "import keyring"
   ]
  },
  {
   "cell_type": "code",
   "execution_count": 27,
   "id": "8b4d3d7f",
   "metadata": {},
   "outputs": [
    {
     "name": "stdout",
     "output_type": "stream",
     "text": [
      "MySQL Database connection successful\n"
     ]
    }
   ],
   "source": [
    "pw = keyring.get_password(\"mysql\", \"ellaguise\")\n",
    "connection = sql.create_db_connection(\"localhost\", \"root\", pw, \"agn_samp\")"
   ]
  },
  {
   "cell_type": "code",
   "execution_count": 28,
   "id": "2fb70ac1",
   "metadata": {},
   "outputs": [],
   "source": [
    "q1 = \"\"\"\n",
    "SELECT z,lum FROM agn_samp_z_5_area_10;\n",
    "\"\"\"\n",
    "\n",
    "results = sql.read_query(connection, q1)\n",
    "z = [results[i][0] for i in range(len(results))]\n",
    "lum = [results[i][1] for i in range(len(results))]"
   ]
  },
  {
   "cell_type": "code",
   "execution_count": 29,
   "id": "5159d151",
   "metadata": {},
   "outputs": [],
   "source": [
    "log_sig_hat_sq_rf = [8. - 0.27*(lum[i]) + (0.47+np.log10(1+z[i])) for i in range(len(z))]\n",
    "log_tau_rf = [-8.13 + 0.24*(lum[i]) + (0.34*np.log10(1+z[i])) for i in range(len(z))] \n",
    "\n",
    "tau = [np.power(10., log_tau_rf[i])*(1+z[i]) for i in range(len(z))]\n",
    "sig_hat_sq = [np.power(10., log_sig_hat_sq_rf[i])/(1+z[i]) for i in range(len(z))]\n",
    "sigma = [np.sqrt(sig_hat_sq[i]*tau[i]/2.) for i in range(len(z))]"
   ]
  },
  {
   "cell_type": "code",
   "execution_count": 31,
   "id": "444458a3",
   "metadata": {},
   "outputs": [
    {
     "name": "stdout",
     "output_type": "stream",
     "text": [
      "Query successful\n",
      "Query successful\n"
     ]
    }
   ],
   "source": [
    "# Create New Table for DRW information\n",
    "\n",
    "create_agn_table = \"\"\"\n",
    "CREATE TABLE agn_DRW_z_5_area_10 (\n",
    "  id INT PRIMARY KEY,\n",
    "  tau FLOAT NOT NULL,\n",
    "  sig_hat FLOAT NOT NULL,\n",
    "  sigma FLOAT NOT NULL\n",
    "  );\n",
    " \"\"\"\n",
    "\n",
    "#sql.execute_query(connection, create_agn_table)\n",
    "\n",
    "sql_ins = '''\n",
    "    INSERT INTO agn_DRW_z_5_area_10 (id, tau, sig_hat, sigma) \n",
    "    VALUES (%s, %s, %s, %s)\n",
    "    '''\n",
    "\n",
    "    \n",
    "val = [(int(i), float(np.log10(tau[i])), 0.5*float(np.log10(sig_hat_sq[i])), float(np.log10(sigma[i]))) for i in range(len(tau))]\n",
    "\n",
    "\n",
    "sql.execute_list_query(connection, sql_ins, val)"
   ]
  },
  {
   "cell_type": "code",
   "execution_count": null,
   "id": "fe1e4d85",
   "metadata": {},
   "outputs": [],
   "source": []
  }
 ],
 "metadata": {
  "kernelspec": {
   "display_name": "Python 3",
   "language": "python",
   "name": "python3"
  },
  "language_info": {
   "codemirror_mode": {
    "name": "ipython",
    "version": 3
   },
   "file_extension": ".py",
   "mimetype": "text/x-python",
   "name": "python",
   "nbconvert_exporter": "python",
   "pygments_lexer": "ipython3",
   "version": "3.8.8"
  }
 },
 "nbformat": 4,
 "nbformat_minor": 5
}
